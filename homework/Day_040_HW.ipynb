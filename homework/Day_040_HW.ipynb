{
 "cells": [
  {
   "cell_type": "markdown",
   "metadata": {},
   "source": [
    "## [作業重點]\n",
    "使用 Sklearn 中的 Lasso, Ridge 模型，來訓練各種資料集，務必了解送進去模型訓練的**資料型態**為何，也請了解模型中各項參數的意義。\n",
    "\n",
    "機器學習的模型非常多種，但要訓練的資料多半有固定的格式，確保你了解訓練資料的格式為何，這樣在應用新模型時，就能夠最快的上手開始訓練！"
   ]
  },
  {
   "cell_type": "markdown",
   "metadata": {},
   "source": [
    "## 練習時間\n",
    "試著使用 sklearn datasets 的其他資料集 (boston, ...)，來訓練自己的線性迴歸模型，並加上適當的正則化來觀察訓練情形。"
   ]
  },
  {
   "cell_type": "markdown",
   "metadata": {},
   "source": [
    "## Boston"
   ]
  },
  {
   "cell_type": "code",
   "execution_count": 1,
   "metadata": {},
   "outputs": [],
   "source": [
    "import numpy as np\n",
    "import matplotlib.pyplot as plt\n",
    "from sklearn import datasets, linear_model\n",
    "from sklearn.model_selection import train_test_split\n",
    "from sklearn.metrics import mean_squared_error, r2_score"
   ]
  },
  {
   "cell_type": "markdown",
   "metadata": {},
   "source": [
    "### Linear Regression"
   ]
  },
  {
   "cell_type": "code",
   "execution_count": 2,
   "metadata": {},
   "outputs": [],
   "source": [
    "# 讀取糖尿病資料集\n",
    "boston = datasets.load_boston()\n",
    "\n",
    "# 切分訓練集/測試集\n",
    "x_train, x_test, y_train, y_test = train_test_split(boston.data, boston.target, test_size=0.2, random_state=4)\n",
    "\n",
    "# 建立一個線性回歸模型\n",
    "regr = linear_model.LinearRegression()\n",
    "\n",
    "# 將訓練資料丟進去模型訓練\n",
    "regr.fit(x_train, y_train)\n",
    "\n",
    "# 將測試資料丟進模型得到預測結果\n",
    "y_pred = regr.predict(x_test)"
   ]
  },
  {
   "cell_type": "code",
   "execution_count": 3,
   "metadata": {},
   "outputs": [
    {
     "name": "stdout",
     "output_type": "stream",
     "text": [
      "[-1.15966452e-01  4.71249231e-02  8.25980146e-03  3.23404531e+00\n",
      " -1.66865890e+01  3.88410651e+00 -1.08974442e-02 -1.54129540e+00\n",
      "  2.93208309e-01 -1.34059383e-02 -9.06296429e-01  8.80823439e-03\n",
      " -4.57723846e-01]\n"
     ]
    }
   ],
   "source": [
    "print(regr.coef_)"
   ]
  },
  {
   "cell_type": "code",
   "execution_count": 4,
   "metadata": {},
   "outputs": [
    {
     "name": "stdout",
     "output_type": "stream",
     "text": [
      "Mean squared error: 25.42\n"
     ]
    }
   ],
   "source": [
    "# 預測值與實際值的差距，使用 MSE\n",
    "print(\"Mean squared error: %.2f\"\n",
    "      % mean_squared_error(y_test, y_pred))"
   ]
  },
  {
   "cell_type": "markdown",
   "metadata": {},
   "source": [
    "### LASSO"
   ]
  },
  {
   "cell_type": "code",
   "execution_count": 5,
   "metadata": {},
   "outputs": [],
   "source": [
    "alpha = [0.1, 0.3, 0.5, 0.7, 1.0, 2.0]"
   ]
  },
  {
   "cell_type": "code",
   "execution_count": 6,
   "metadata": {},
   "outputs": [
    {
     "name": "stdout",
     "output_type": "stream",
     "text": [
      "alpha為： 0.1\n",
      "[-0.10618872  0.04886351 -0.04536655  1.14953069 -0.          3.82353877\n",
      " -0.02089779 -1.23590613  0.26008876 -0.01517094 -0.74673362  0.00963864\n",
      " -0.49877104]\n",
      "Mean squared error: 26.45 \n",
      "\n",
      "alpha為： 0.3\n",
      "[-0.09855422  0.04870073 -0.02312395  0.         -0.          3.26381653\n",
      " -0.01153515 -1.11060846  0.26323033 -0.01580522 -0.74800739  0.00933465\n",
      " -0.54713872]\n",
      "Mean squared error: 26.65 \n",
      "\n",
      "alpha為： 0.5\n",
      "[-0.08860117  0.04829133 -0.01107435  0.         -0.          2.66101769\n",
      " -0.00307949 -0.98440282  0.25664031 -0.01593271 -0.73252329  0.00884426\n",
      " -0.59210164]\n",
      "Mean squared error: 26.94 \n",
      "\n",
      "alpha為： 0.7\n",
      "[-7.91297148e-02  4.72549632e-02 -0.00000000e+00  0.00000000e+00\n",
      " -0.00000000e+00  2.08599802e+00  2.49156109e-04 -8.94686247e-01\n",
      "  2.48898278e-01 -1.59368404e-02 -7.17088164e-01  8.39764158e-03\n",
      " -6.29632147e-01]\n",
      "Mean squared error: 27.59 \n",
      "\n",
      "alpha為： 1.0\n",
      "[-0.06494981  0.04581458 -0.          0.         -0.          1.18140024\n",
      "  0.01109101 -0.73695809  0.23350042 -0.01551065 -0.69270805  0.00763157\n",
      " -0.6927848 ]\n",
      "Mean squared error: 28.95 \n",
      "\n",
      "alpha為： 2.0\n",
      "[-0.0181519   0.03043393 -0.          0.         -0.          0.\n",
      "  0.03717309 -0.12778153  0.1407538  -0.01207991 -0.54243977  0.00603438\n",
      " -0.77311473]\n",
      "Mean squared error: 34.09 \n",
      "\n"
     ]
    }
   ],
   "source": [
    "# 切分訓練集/測試集\n",
    "x_train, x_test, y_train, y_test = train_test_split(boston.data, boston.target, test_size=0.2, random_state=4)\n",
    "\n",
    "# 建立一個線性回歸模型\n",
    "\n",
    "for aph in alpha:\n",
    "    print(\"alpha為：\", aph)\n",
    "    lasso = linear_model.Lasso(alpha = aph)\n",
    "\n",
    "    # 將訓練資料丟進去模型訓練\n",
    "    lasso.fit(x_train, y_train)\n",
    "\n",
    "    # 將測試資料丟進模型得到預測結果\n",
    "    y_pred = lasso.predict(x_test)\n",
    "\n",
    "    # 印出各特徵對應的係數，可以看到許多係數都變成 0，Lasso Regression 的確可以做特徵選取\n",
    "    print(lasso.coef_ )\n",
    "\n",
    "    # 預測值與實際值的差距，使用 MSE\n",
    "\n",
    "    print(\"Mean squared error: %.2f\"\n",
    "          % mean_squared_error(y_test, y_pred), \"\\n\")"
   ]
  },
  {
   "cell_type": "markdown",
   "metadata": {},
   "source": [
    "### Ridge"
   ]
  },
  {
   "cell_type": "code",
   "execution_count": 7,
   "metadata": {},
   "outputs": [
    {
     "name": "stdout",
     "output_type": "stream",
     "text": [
      "alpha為： 0.1\n",
      "[-1.15381303e-01  4.72528249e-02  2.87371589e-03  3.19642306e+00\n",
      " -1.54713824e+01  3.89388927e+00 -1.19943742e-02 -1.52347878e+00\n",
      "  2.90133016e-01 -1.34816989e-02 -8.93679905e-01  8.86599187e-03\n",
      " -4.58983115e-01]\n",
      "Mean squared error: 25.42 \n",
      "\n",
      "alpha為： 0.3\n",
      "[-1.14440833e-01  4.74655954e-02 -5.82205210e-03  3.13107153e+00\n",
      " -1.35035586e+01  3.90852838e+00 -1.37563477e-02 -1.49461840e+00\n",
      "  2.85214450e-01 -1.36071503e-02 -8.73357569e-01  8.95943721e-03\n",
      " -4.61131388e-01]\n",
      "Mean squared error: 25.42 \n",
      "\n",
      "alpha為： 0.5\n",
      "[-1.13720313e-01  4.76370805e-02 -1.25294762e-02  3.07531514e+00\n",
      " -1.19789169e+01  3.91845004e+00 -1.51046851e-02 -1.47224633e+00\n",
      "  2.81475089e-01 -1.37075697e-02 -8.57737917e-01  9.03172343e-03\n",
      " -4.62924119e-01]\n",
      "Mean squared error: 25.42 \n",
      "\n",
      "alpha為： 0.7\n",
      "[-1.13152721e-01  4.77797521e-02 -1.78531666e-02  3.02636342e+00\n",
      " -1.07629157e+01  3.92508896e+00 -1.61650971e-02 -1.45439235e+00\n",
      "  2.78555770e-01 -1.37904976e-02 -8.45391201e-01  9.08925806e-03\n",
      " -4.64468379e-01]\n",
      "Mean squared error: 25.42 \n",
      "\n",
      "alpha為： 1.0\n",
      "[-1.12499445e-01  4.79562332e-02 -2.40438147e-02  2.96199458e+00\n",
      " -9.33966118e+00  3.93079015e+00 -1.73821202e-02 -1.43347691e+00\n",
      "  2.75239392e-01 -1.38920708e-02 -8.31116943e-01  9.15637729e-03\n",
      " -4.66460539e-01]\n",
      "Mean squared error: 25.42 \n",
      "\n",
      "alpha為： 2.0\n",
      "[-0.11124732  0.04836675 -0.03626675  2.79267166 -6.47851744  3.92986404\n",
      " -0.01968654 -1.39130854  0.26915166 -0.01412214 -0.80343978  0.00928963\n",
      " -0.47155751]\n",
      "Mean squared error: 25.42 \n",
      "\n"
     ]
    }
   ],
   "source": [
    "# 切分訓練集/測試集\n",
    "x_train, x_test, y_train, y_test = train_test_split(boston.data, boston.target, test_size=0.2, random_state=4)\n",
    "\n",
    "for aph in alpha:\n",
    "    # 建立一個線性回歸模型\n",
    "    print(\"alpha為：\", aph)\n",
    "    ridge = linear_model.Ridge(alpha = aph)\n",
    "\n",
    "    # 將訓練資料丟進去模型訓練\n",
    "    ridge.fit(x_train, y_train)\n",
    "\n",
    "    # 將測試資料丟進模型得到預測結果\n",
    "    y_pred = regr.predict(x_test)\n",
    "\n",
    "    # 印出 Ridge 的參數，可以很明顯看到比起 Linear Regression，參數的數值都明顯小了許多\n",
    "    print(ridge.coef_)\n",
    "\n",
    "    # 預測值與實際值的差距，使用 MSE\n",
    "\n",
    "    print(\"Mean squared error: %.2f\"\n",
    "          % mean_squared_error(y_test, y_pred), \"\\n\")"
   ]
  },
  {
   "cell_type": "code",
   "execution_count": null,
   "metadata": {},
   "outputs": [],
   "source": []
  }
 ],
 "metadata": {
  "kernelspec": {
   "display_name": "Python 3",
   "language": "python",
   "name": "python3"
  },
  "language_info": {
   "codemirror_mode": {
    "name": "ipython",
    "version": 3
   },
   "file_extension": ".py",
   "mimetype": "text/x-python",
   "name": "python",
   "nbconvert_exporter": "python",
   "pygments_lexer": "ipython3",
   "version": "3.6.8"
  }
 },
 "nbformat": 4,
 "nbformat_minor": 2
}
