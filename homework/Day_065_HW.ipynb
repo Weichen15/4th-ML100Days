{
 "cells": [
  {
   "cell_type": "markdown",
   "metadata": {},
   "source": [
    "# 作業\n",
    "* 選擇分類資料集(右下)-螺旋雙臂 - 交錯六群，限定特徵只能使用前兩個，隱藏層 2 層滿 (共 8 * 2 =16 個神經元)，  \n",
    "  遞迴次數只允許跑到500次，但可以自由調整 批次大小、學習速率、啟動函數、正規化選項與參數\n",
    "* 在上述限制下，挑戰看看測試誤差 (Test Loss) 最低能到多少? 請回答你的上述幾項參數與 Test Loss 數"
   ]
  },
  {
   "cell_type": "markdown",
   "metadata": {
    "collapsed": true
   },
   "source": []
  },
  {
   "cell_type": "markdown",
   "metadata": {},
   "source": [
    "#### batch_size = (5 / 10)\n",
    "#### learning rate = (0.1 / 0.3 / 1) \n",
    "#### activation function = (tanh / sigmoid)\n",
    "#### regularization = (None / L1 / L2)"
   ]
  },
  {
   "cell_type": "markdown",
   "metadata": {},
   "source": [
    "### The best!!!\n",
    "- batch_size = 5 \n",
    "- learning rate = 0.1\n",
    "- activation function = tanh\n",
    "- regularization = None\n",
    "* test loss：0.039\n",
    "* training loss：0.009"
   ]
  },
  {
   "cell_type": "markdown",
   "metadata": {},
   "source": [
    "#### testing"
   ]
  },
  {
   "cell_type": "markdown",
   "metadata": {},
   "source": [
    "- batch_size = 5\n",
    "- learning rate = 0.1\n",
    "- activation function = tanh\n",
    "- regularization = L1\n",
    "* test loss：0.115\n",
    "* training loss：0.015"
   ]
  },
  {
   "cell_type": "markdown",
   "metadata": {},
   "source": [
    "- batch_size = 5\n",
    "- learning rate = 0.1\n",
    "- activation function = tanh\n",
    "- regularization = L2\n",
    "* test loss：0.258\n",
    "* training loss：0.142"
   ]
  },
  {
   "cell_type": "markdown",
   "metadata": {},
   "source": [
    "- batch_size = 5\n",
    "- learning rate = 0.1\n",
    "- activation function = sigmoid\n",
    "- regularization = None\n",
    "* test loss：0.494\n",
    "* training loss：0.462"
   ]
  },
  {
   "cell_type": "markdown",
   "metadata": {},
   "source": [
    "- batch_size = 5\n",
    "- learning rate = 0.1\n",
    "- activation function = sigmoid\n",
    "- regularization = L1\n",
    "* test loss：0.477\n",
    "* training loss：0.432"
   ]
  },
  {
   "cell_type": "markdown",
   "metadata": {},
   "source": [
    "- batch_size = 5\n",
    "- learning rate = 0.1\n",
    "- activation function = sigmoid\n",
    "- regularization = L2\n",
    "* test loss：0.523\n",
    "* training loss：0.428"
   ]
  },
  {
   "cell_type": "markdown",
   "metadata": {},
   "source": [
    "- batch_size = 5\n",
    "- learning rate = 0.3\n",
    "- activation function = tanh\n",
    "- regularization = None\n",
    "* test loss：0.392\n",
    "* training loss：0.313"
   ]
  },
  {
   "cell_type": "markdown",
   "metadata": {},
   "source": [
    "- batch_size = 5\n",
    "- learning rate = 0.3\n",
    "- activation function = tanh\n",
    "- regularization = L1\n",
    "* test loss：0.412\n",
    "* training loss：0.313"
   ]
  },
  {
   "cell_type": "markdown",
   "metadata": {},
   "source": [
    "- batch_size = 5\n",
    "- learning rate = 0.3\n",
    "- activation function = tanh\n",
    "- regularization = L2\n",
    "* test loss：0.540\n",
    "* training loss：0.501"
   ]
  },
  {
   "cell_type": "markdown",
   "metadata": {},
   "source": [
    "- batch_size = 5\n",
    "- learning rate = 0.3\n",
    "- activation function = sigmoid\n",
    "- regularization = None\n",
    "* test loss：0.458\n",
    "* training loss：0.396"
   ]
  },
  {
   "cell_type": "markdown",
   "metadata": {},
   "source": [
    "- batch_size = 5\n",
    "- learning rate = 0.3\n",
    "- activation function = sigmoid\n",
    "- regularization = L1\n",
    "* test loss：0.353\n",
    "* training loss：0.288"
   ]
  },
  {
   "cell_type": "markdown",
   "metadata": {},
   "source": [
    "- batch_size = 5\n",
    "- learning rate = 0.3\n",
    "- activation function = sigmoid\n",
    "- regularization = L2\n",
    "* test loss：0.351\n",
    "* training loss：0.197"
   ]
  },
  {
   "cell_type": "markdown",
   "metadata": {},
   "source": [
    "#### Learning rate = 1 會無法收斂！！！"
   ]
  },
  {
   "cell_type": "markdown",
   "metadata": {},
   "source": [
    "- batch_size = 10\n",
    "- learning rate = 0.1\n",
    "- activation function = tanh\n",
    "- regularization = None\n",
    "* test loss：0.058\n",
    "* training loss：0.033"
   ]
  },
  {
   "cell_type": "markdown",
   "metadata": {},
   "source": [
    "- batch_size = 10\n",
    "- learning rate = 0.1\n",
    "- activation function = tanh\n",
    "- regularization = L1\n",
    "* test loss：0.155\n",
    "* training loss：0.058"
   ]
  },
  {
   "cell_type": "markdown",
   "metadata": {},
   "source": [
    "- batch_size = 10\n",
    "- learning rate = 0.1\n",
    "- activation function = tanh\n",
    "- regularization = L2\n",
    "* test loss：0.100\n",
    "* training loss：0.012"
   ]
  },
  {
   "cell_type": "markdown",
   "metadata": {},
   "source": [
    "- batch_size = 10\n",
    "- learning rate = 0.1\n",
    "- activation function = sigmoid\n",
    "- regularization = None\n",
    "* test loss：0.488\n",
    "* training loss：0.465"
   ]
  },
  {
   "cell_type": "markdown",
   "metadata": {},
   "source": [
    "- batch_size = 10\n",
    "- learning rate = 0.1\n",
    "- activation function = sigmoid\n",
    "- regularization = L1\n",
    "* test loss：0.495\n",
    "* training loss：0.457"
   ]
  },
  {
   "cell_type": "markdown",
   "metadata": {},
   "source": [
    "- batch_size = 10\n",
    "- learning rate = 0.1\n",
    "- activation function = sigmoid\n",
    "- regularization = L2\n",
    "* test loss：0.496\n",
    "* training loss：0.449"
   ]
  },
  {
   "cell_type": "markdown",
   "metadata": {},
   "source": [
    "- batch_size = 10\n",
    "- learning rate = 0.3\n",
    "- activation function = tanh\n",
    "- regularization = None\n",
    "* test loss：0.475\n",
    "* training loss：0.315"
   ]
  },
  {
   "cell_type": "markdown",
   "metadata": {},
   "source": [
    "- batch_size = 10\n",
    "- learning rate = 0.3\n",
    "- activation function = tanh\n",
    "- regularization = L1\n",
    "* test loss：0.169\n",
    "* training loss：0.030"
   ]
  },
  {
   "cell_type": "markdown",
   "metadata": {},
   "source": [
    "- batch_size = 10\n",
    "- learning rate = 0.3\n",
    "- activation function = tanh\n",
    "- regularization = L2\n",
    "* test loss：0.343\n",
    "* training loss：0.247"
   ]
  },
  {
   "cell_type": "markdown",
   "metadata": {},
   "source": [
    "- batch_size = 10\n",
    "- learning rate = 0.3\n",
    "- activation function = sigmoid\n",
    "- regularization = None\n",
    "* test loss：0.434\n",
    "* training loss：0.398"
   ]
  },
  {
   "cell_type": "markdown",
   "metadata": {},
   "source": [
    "- batch_size = 10\n",
    "- learning rate = 0.3\n",
    "- activation function = sigmoid\n",
    "- regularization = L1\n",
    "* test loss：0.449\n",
    "* training loss：0.402"
   ]
  },
  {
   "cell_type": "markdown",
   "metadata": {},
   "source": [
    "- batch_size = 10\n",
    "- learning rate = 0.3\n",
    "- activation function = sigmoid\n",
    "- regularization = L2\n",
    "* test loss：0.436\n",
    "* training loss：0.381"
   ]
  },
  {
   "cell_type": "code",
   "execution_count": null,
   "metadata": {},
   "outputs": [],
   "source": []
  }
 ],
 "metadata": {
  "kernelspec": {
   "display_name": "Python 3",
   "language": "python",
   "name": "python3"
  },
  "language_info": {
   "codemirror_mode": {
    "name": "ipython",
    "version": 3
   },
   "file_extension": ".py",
   "mimetype": "text/x-python",
   "name": "python",
   "nbconvert_exporter": "python",
   "pygments_lexer": "ipython3",
   "version": "3.6.8"
  }
 },
 "nbformat": 4,
 "nbformat_minor": 2
}
